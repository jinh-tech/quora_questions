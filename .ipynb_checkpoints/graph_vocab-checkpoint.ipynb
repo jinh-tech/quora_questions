{
 "cells": [
  {
   "cell_type": "code",
   "execution_count": 44,
   "metadata": {
    "collapsed": true
   },
   "outputs": [],
   "source": [
    "import numpy as np\n",
    "import matplotlib.pyplot as plt\n",
    "import pandas as pd\n",
    "from nltk.tokenize import RegexpTokenizer\n",
    "from stop_words import get_stop_words\n",
    "from nltk.stem.snowball import SnowballStemmer\n",
    "from gensim import corpora, models\n",
    "\n",
    "import gensim"
   ]
  },
  {
   "cell_type": "code",
   "execution_count": 2,
   "metadata": {
    "collapsed": true
   },
   "outputs": [],
   "source": [
    "df = pd.read_csv(\"./data/train.csv\")"
   ]
  },
  {
   "cell_type": "code",
   "execution_count": 3,
   "metadata": {
    "collapsed": false
   },
   "outputs": [
    {
     "name": "stdout",
     "output_type": "stream",
     "text": [
      "404290\n"
     ]
    }
   ],
   "source": [
    "print len(df.index)"
   ]
  },
  {
   "cell_type": "code",
   "execution_count": 4,
   "metadata": {
    "collapsed": false
   },
   "outputs": [],
   "source": [
    "#id1 = df['qid1'].tolist()\n",
    "#id2 = df['qid2'].tolist()\n",
    "qu1 = df['question1'].tolist()\n",
    "qu2 = df['question2'].tolist()\n",
    "dup = df['is_duplicate'].tolist()"
   ]
  },
  {
   "cell_type": "code",
   "execution_count": 5,
   "metadata": {
    "collapsed": true
   },
   "outputs": [],
   "source": [
    "tokenizer = RegexpTokenizer(r'[a-z]+')\n",
    "en_stop = get_stop_words('en')\n",
    "p_stemmer = SnowballStemmer(\"english\")"
   ]
  },
  {
   "cell_type": "code",
   "execution_count": 6,
   "metadata": {
    "collapsed": true
   },
   "outputs": [],
   "source": [
    "for c,j in enumerate(qu1):\n",
    "    try:\n",
    "        # clean and tokenize document string\n",
    "        raw = j.lower()\n",
    "        #print raw\n",
    "        tokens = tokenizer.tokenize(raw)\n",
    "        # remove stop words from tokens\n",
    "        #print tokens\n",
    "        stopped_tokens = [i for i in tokens if not i in en_stop]\n",
    "        # stem tokens\n",
    "        qu1[c] = [p_stemmer.stem(i) for i in stopped_tokens]\n",
    "        \n",
    "    except:\n",
    "        print i,c,j"
   ]
  },
  {
   "cell_type": "code",
   "execution_count": 7,
   "metadata": {
    "collapsed": false
   },
   "outputs": [
    {
     "name": "stdout",
     "output_type": "stream",
     "text": [
      "youtube 105780 nan\n",
      "anger 201841 nan\n"
     ]
    }
   ],
   "source": [
    "#change qu1 <-> qu2.\n",
    "for c,j in enumerate(qu2):\n",
    "    try:\n",
    "        # clean and tokenize document string\n",
    "        raw = j.lower()\n",
    "        #print raw\n",
    "        tokens = tokenizer.tokenize(raw)\n",
    "        # remove stop words from tokens\n",
    "        #print tokens\n",
    "        stopped_tokens = [i for i in tokens if not i in en_stop]\n",
    "        # stem tokens\n",
    "        qu2[c] = [p_stemmer.stem(i) for i in stopped_tokens]\n",
    "        \n",
    "    except:\n",
    "        print i,c,j"
   ]
  },
  {
   "cell_type": "code",
   "execution_count": 8,
   "metadata": {
    "collapsed": false
   },
   "outputs": [],
   "source": [
    "qu2[105780] = []\n",
    "qu2[201841] = []"
   ]
  },
  {
   "cell_type": "code",
   "execution_count": 9,
   "metadata": {
    "collapsed": true
   },
   "outputs": [],
   "source": [
    "file1 = open('q1_stemmed.txt','w')\n",
    "file2 = open('q2_stemmed.txt','w')\n",
    "for i in range(0,len(qu1)):\n",
    "    file1.write(' '.join(qu1[i]) + '\\n')\n",
    "for i in range(0,len(qu2)):\n",
    "    file2.write(' '.join(qu2[i]) + '\\n')\n",
    "file1.close()\n",
    "file2.close()\n",
    "    "
   ]
  },
  {
   "cell_type": "code",
   "execution_count": 10,
   "metadata": {
    "collapsed": true
   },
   "outputs": [],
   "source": [
    "vocab_freq = {}"
   ]
  },
  {
   "cell_type": "code",
   "execution_count": 11,
   "metadata": {
    "collapsed": false
   },
   "outputs": [
    {
     "name": "stdout",
     "output_type": "stream",
     "text": [
      "58592\n"
     ]
    }
   ],
   "source": [
    "counter = 0\n",
    "for i in range(0,len(qu1)):\n",
    "    for j in qu1[i]:\n",
    "        if j not in vocab_freq:\n",
    "            vocab_freq[j] = [counter,1]\n",
    "            counter += 1\n",
    "        else:\n",
    "            vocab_freq[j][1] += 1\n",
    "    for j in qu2[i]:\n",
    "        if j not in vocab_freq:\n",
    "            vocab_freq[j] = [counter,1]\n",
    "            counter += 1\n",
    "        else:\n",
    "            vocab_freq[j][1] += 1\n",
    "print counter"
   ]
  },
  {
   "cell_type": "code",
   "execution_count": 12,
   "metadata": {
    "collapsed": true
   },
   "outputs": [],
   "source": [
    "np.save(\"vocab_freq.npy\",vocab_freq)"
   ]
  },
  {
   "cell_type": "code",
   "execution_count": 41,
   "metadata": {
    "collapsed": false
   },
   "outputs": [],
   "source": [
    "graph = {}\n",
    "weight = 1.015"
   ]
  },
  {
   "cell_type": "code",
   "execution_count": 42,
   "metadata": {
    "collapsed": true
   },
   "outputs": [],
   "source": [
    "for i in range(0,len(qu1)):\n",
    "    q_list1 = []\n",
    "    q_list2 = []\n",
    "    for j in qu1[i]:\n",
    "        q_list1.append(vocab_freq[j][0])\n",
    "    for j in qu2[i]:\n",
    "        q_list2.append(vocab_freq[j][0])\n",
    "    q_list1 = set(q_list1)\n",
    "    q_list2 = set(q_list2)\n",
    "    q_list1 = q_list1 - q_list2\n",
    "    q_list2 = q_list2 - q_list1\n",
    "    for j in q_list1:\n",
    "        for k in q_list2:\n",
    "            if not ((j,k) in graph) and not ((k,j) in graph):\n",
    "                if dup[i] == 1:\n",
    "                    graph[(j,k)] = weight\n",
    "                else:\n",
    "                    graph[(j,k)] = 1.0/weight\n",
    "            elif (j,k) in graph:\n",
    "                if dup[i] == 1:\n",
    "                    graph[(j,k)] *= weight\n",
    "                else:\n",
    "                    graph[(j,k)] /= weight\n",
    "            elif (k,j) in graph:\n",
    "                if dup[i] == 1:\n",
    "                    graph[(k,j)] *= weight\n",
    "                else:\n",
    "                    graph[(k,j)] /= weight\n",
    "                \n",
    "    "
   ]
  },
  {
   "cell_type": "code",
   "execution_count": 43,
   "metadata": {
    "collapsed": true
   },
   "outputs": [],
   "source": [
    "np.save(\"graph.npy\",graph)"
   ]
  },
  {
   "cell_type": "code",
   "execution_count": 16,
   "metadata": {
    "collapsed": false
   },
   "outputs": [
    {
     "name": "stdout",
     "output_type": "stream",
     "text": [
      "2788\n",
      "29586\n",
      "\n",
      "2.42438878678\n"
     ]
    }
   ],
   "source": [
    "word1 = \"modi\"\n",
    "word2 = \"india\"\n",
    "print vocab_freq[word1][1]\n",
    "print vocab_freq[word2][1]\n",
    "print \n",
    "a = vocab_freq[word1][0]\n",
    "b = vocab_freq[word2][0]\n",
    "if (a,b) in graph:\n",
    "    print graph[(a,b)]\n",
    "elif (b,a) in graph:\n",
    "    print graph[(b,a)]"
   ]
  }
 ],
 "metadata": {
  "anaconda-cloud": {},
  "kernelspec": {
   "display_name": "Python [conda env:hcc]",
   "language": "python",
   "name": "conda-env-hcc-py"
  },
  "language_info": {
   "codemirror_mode": {
    "name": "ipython",
    "version": 2
   },
   "file_extension": ".py",
   "mimetype": "text/x-python",
   "name": "python",
   "nbconvert_exporter": "python",
   "pygments_lexer": "ipython2",
   "version": "2.7.13"
  }
 },
 "nbformat": 4,
 "nbformat_minor": 2
}
