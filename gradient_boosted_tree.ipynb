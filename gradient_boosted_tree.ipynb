{
 "cells": [
  {
   "cell_type": "code",
   "execution_count": 5,
   "metadata": {
    "collapsed": false
   },
   "outputs": [],
   "source": [
    "# the code in the file has been taken from \"https://www.kaggle.com/anokas/data-analysis-xgboost-starter-0-35460-lb\"\n",
    "import xgboost as xgb\n",
    "from sklearn.cross_validation import train_test_split\n",
    "\n",
    "import numpy as np\n",
    "import matplotlib.pyplot as plt\n",
    "import pandas as pd\n",
    "from nltk.tokenize import RegexpTokenizer\n",
    "from stop_words import get_stop_words\n",
    "from nltk.stem.snowball import SnowballStemmer\n",
    "from gensim import corpora, models\n",
    "\n",
    "import gensim\n"
   ]
  },
  {
   "cell_type": "code",
   "execution_count": 6,
   "metadata": {
    "collapsed": true
   },
   "outputs": [],
   "source": [
    "df = pd.read_csv(\"./data/train.csv\")\n",
    "y_train = df['is_duplicate'].tolist()\n",
    "x_train = pd.read_csv('scores.csv')\n",
    "df = pd.read_csv(\"./data/test.csv\")\n",
    "test_id = df['test_id'].tolist()\n",
    "qu1 = df['question1'].tolist()\n",
    "qu2 = df['question2'].tolist()\n",
    "x_test = pd.read_csv('scores_test.csv')"
   ]
  },
  {
   "cell_type": "code",
   "execution_count": 7,
   "metadata": {
    "collapsed": true
   },
   "outputs": [],
   "source": [
    "x_train, x_valid, y_train, y_valid = train_test_split(x_train, y_train, test_size=0.2, random_state=4242)"
   ]
  },
  {
   "cell_type": "code",
   "execution_count": 10,
   "metadata": {
    "collapsed": true
   },
   "outputs": [],
   "source": [
    "params = {}\n",
    "params['objective'] = 'binary:logistic'\n",
    "params['eval_metric'] = 'logloss'\n",
    "params['eta'] = 0.02\n",
    "params['max_depth'] = 5"
   ]
  },
  {
   "cell_type": "code",
   "execution_count": 11,
   "metadata": {
    "collapsed": false
   },
   "outputs": [
    {
     "name": "stdout",
     "output_type": "stream",
     "text": [
      "[0]\ttrain-logloss:0.68524\tvalid-logloss:0.685304\n",
      "Multiple eval metrics have been passed: 'valid-logloss' will be used for early stopping.\n",
      "\n",
      "Will train until valid-logloss hasn't improved in 50 rounds.\n",
      "[10]\ttrain-logloss:0.620899\tvalid-logloss:0.621509\n",
      "[20]\ttrain-logloss:0.576001\tvalid-logloss:0.57705\n",
      "[30]\ttrain-logloss:0.543811\tvalid-logloss:0.545232\n",
      "[40]\ttrain-logloss:0.520546\tvalid-logloss:0.522267\n",
      "[50]\ttrain-logloss:0.503364\tvalid-logloss:0.505323\n",
      "[60]\ttrain-logloss:0.490428\tvalid-logloss:0.49257\n",
      "[70]\ttrain-logloss:0.480703\tvalid-logloss:0.48299\n",
      "[80]\ttrain-logloss:0.473313\tvalid-logloss:0.47569\n",
      "[90]\ttrain-logloss:0.467521\tvalid-logloss:0.470025\n",
      "[100]\ttrain-logloss:0.463083\tvalid-logloss:0.465689\n",
      "[110]\ttrain-logloss:0.459685\tvalid-logloss:0.462378\n",
      "[120]\ttrain-logloss:0.457073\tvalid-logloss:0.459833\n",
      "[130]\ttrain-logloss:0.454984\tvalid-logloss:0.457804\n",
      "[140]\ttrain-logloss:0.453337\tvalid-logloss:0.456232\n",
      "[150]\ttrain-logloss:0.452035\tvalid-logloss:0.454989\n",
      "[160]\ttrain-logloss:0.45097\tvalid-logloss:0.453973\n",
      "[170]\ttrain-logloss:0.450059\tvalid-logloss:0.45312\n",
      "[180]\ttrain-logloss:0.44929\tvalid-logloss:0.452402\n",
      "[190]\ttrain-logloss:0.448664\tvalid-logloss:0.45183\n",
      "[200]\ttrain-logloss:0.448143\tvalid-logloss:0.451362\n",
      "[210]\ttrain-logloss:0.447686\tvalid-logloss:0.450943\n",
      "[220]\ttrain-logloss:0.447236\tvalid-logloss:0.450546\n",
      "[230]\ttrain-logloss:0.44689\tvalid-logloss:0.450248\n",
      "[240]\ttrain-logloss:0.446495\tvalid-logloss:0.449891\n",
      "[250]\ttrain-logloss:0.446241\tvalid-logloss:0.449688\n",
      "[260]\ttrain-logloss:0.446012\tvalid-logloss:0.449505\n",
      "[270]\ttrain-logloss:0.445716\tvalid-logloss:0.449235\n",
      "[280]\ttrain-logloss:0.445442\tvalid-logloss:0.448999\n",
      "[290]\ttrain-logloss:0.445151\tvalid-logloss:0.448735\n",
      "[300]\ttrain-logloss:0.445011\tvalid-logloss:0.448624\n",
      "[310]\ttrain-logloss:0.444738\tvalid-logloss:0.448376\n",
      "[320]\ttrain-logloss:0.444536\tvalid-logloss:0.448215\n",
      "[330]\ttrain-logloss:0.444328\tvalid-logloss:0.448043\n",
      "[340]\ttrain-logloss:0.444091\tvalid-logloss:0.447847\n",
      "[350]\ttrain-logloss:0.443836\tvalid-logloss:0.447627\n",
      "[360]\ttrain-logloss:0.443649\tvalid-logloss:0.447479\n",
      "[370]\ttrain-logloss:0.443469\tvalid-logloss:0.447331\n",
      "[380]\ttrain-logloss:0.44331\tvalid-logloss:0.447201\n",
      "[390]\ttrain-logloss:0.443212\tvalid-logloss:0.447137\n"
     ]
    }
   ],
   "source": [
    "d_train = xgb.DMatrix(x_train, label=y_train)\n",
    "d_valid = xgb.DMatrix(x_valid, label=y_valid)\n",
    "watchlist = [(d_train, 'train'), (d_valid, 'valid')]\n",
    "bst = xgb.train(params, d_train, 400, watchlist, early_stopping_rounds=50, verbose_eval=10)"
   ]
  },
  {
   "cell_type": "code",
   "execution_count": 13,
   "metadata": {
    "collapsed": true
   },
   "outputs": [],
   "source": [
    "d_test = xgb.DMatrix(x_test)\n",
    "p_test = bst.predict(d_test)\n",
    "\n",
    "sub = pd.DataFrame()\n",
    "sub['test_id'] = df['test_id']\n",
    "sub['is_duplicate'] = p_test\n",
    "sub.to_csv('upload.csv', index=False)\n"
   ]
  }
 ],
 "metadata": {
  "kernelspec": {
   "display_name": "Python [conda env:hcc]",
   "language": "python",
   "name": "conda-env-hcc-py"
  },
  "language_info": {
   "codemirror_mode": {
    "name": "ipython",
    "version": 2
   },
   "file_extension": ".py",
   "mimetype": "text/x-python",
   "name": "python",
   "nbconvert_exporter": "python",
   "pygments_lexer": "ipython2",
   "version": "2.7.13"
  }
 },
 "nbformat": 4,
 "nbformat_minor": 2
}
