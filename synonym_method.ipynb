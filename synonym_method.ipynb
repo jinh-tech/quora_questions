{
 "cells": [
  {
   "cell_type": "code",
   "execution_count": 1,
   "metadata": {
    "collapsed": false
   },
   "outputs": [],
   "source": [
    "import numpy as np\n",
    "import matplotlib.pyplot as plt\n",
    "import pandas as pd\n",
    "from nltk.tokenize import RegexpTokenizer\n",
    "from stop_words import get_stop_words\n",
    "from nltk.stem.snowball import SnowballStemmer\n",
    "from gensim import corpora, models\n",
    "from sklearn.linear_model import LogisticRegression\n",
    "import gensim"
   ]
  },
  {
   "cell_type": "code",
   "execution_count": 2,
   "metadata": {
    "collapsed": false
   },
   "outputs": [],
   "source": [
    "df = pd.read_csv(\"./data/train.csv\")\n",
    "with open('q1_test.txt', 'r') as f1:\n",
    "    qu1 = [line.strip().split() for line in f1]\n",
    "with open('q2_test.txt', 'r') as f2:\n",
    "    qu2 = [line.strip().split() for line in f2]\n",
    "f1.close()\n",
    "f2.close()\n",
    "dup = df['is_duplicate'].tolist()\n",
    "graph = np.load(\"graph.npy\").item()\n",
    "vocab_freq = np.load(\"vocab_freq.npy\").item()"
   ]
  },
  {
   "cell_type": "code",
   "execution_count": 12,
   "metadata": {
    "collapsed": true
   },
   "outputs": [],
   "source": [
    "score_dup = []\n",
    "score_dif = []\n",
    "score = []\n",
    "t_hold = 1.0"
   ]
  },
  {
   "cell_type": "code",
   "execution_count": 13,
   "metadata": {
    "collapsed": false
   },
   "outputs": [],
   "source": [
    "for i in range(0,len(qu1)):\n",
    "    q_list1 = []\n",
    "    q_list2 = []\n",
    "    for j in qu1[i]:\n",
    "        try:\n",
    "            q_list1.append(vocab_freq[j][0])\n",
    "        except:\n",
    "            t_hold = 1.0\n",
    "            \n",
    "    for j in qu2[i]:\n",
    "        try:\n",
    "            q_list2.append(vocab_freq[j][0])\n",
    "        except:\n",
    "            t_hold = 1.0\n",
    "    sc = 0.0\n",
    "    \n",
    "    q_list1 = set(q_list1)\n",
    "    q_list2 = set(q_list2)\n",
    "    inter_score = len(q_list1 & q_list2)*1.0\n",
    "    if (len(q_list1) + len(q_list2)) !=0 :\n",
    "        inter_score /= ((len(q_list1) + len(q_list2))/2.0)\n",
    "    else:\n",
    "        inter_score = 0\n",
    "    q_list1 = q_list1 - q_list2\n",
    "    q_list2 = q_list2 - q_list1\n",
    "    \n",
    "    for j in q_list1:\n",
    "        for k in q_list2:\n",
    "            if (j,k) in graph:\n",
    "                sc += graph[(j,k)]\n",
    "            elif (k,j) in graph:\n",
    "                sc += graph[(k,j)]\n",
    "            else:\n",
    "                sc += t_hold\n",
    "    if len(q_list1)*len(q_list2) !=0:\n",
    "        sc /= (len(q_list1)*len(q_list2))\n",
    "    else:\n",
    "        sc = 0\n",
    "    score.append([sc,inter_score])\n",
    "    #if dup[i] ==1:\n",
    "        #score_dup.append(sc)\n",
    "    #else:\n",
    "        #score_dif.append(sc)\n",
    "    "
   ]
  },
  {
   "cell_type": "code",
   "execution_count": 45,
   "metadata": {
    "collapsed": false
   },
   "outputs": [
    {
     "name": "stdout",
     "output_type": "stream",
     "text": [
      "135.372051492\n",
      "27.8139022119\n",
      "45232.9792744\n",
      "18980.7505079\n"
     ]
    }
   ],
   "source": [
    "print sum(score_dup)/len(score_dup)\n",
    "print sum(score_dif)/len(score_dif)\n",
    "print max(score_dup)\n",
    "print max(score_dif)"
   ]
  },
  {
   "cell_type": "code",
   "execution_count": null,
   "metadata": {
    "collapsed": false
   },
   "outputs": [],
   "source": [
    "plt.figure(1)\n",
    "_,bins1,_ = plt.hist(score_dup,1000,facecolor='green')\n",
    "#plt.plot(bins1)\n",
    "#plt.axis([0, 50, 0, 30000])\n",
    "plt.show()"
   ]
  },
  {
   "cell_type": "code",
   "execution_count": null,
   "metadata": {
    "collapsed": false
   },
   "outputs": [],
   "source": [
    "print bins1[-1]"
   ]
  },
  {
   "cell_type": "code",
   "execution_count": null,
   "metadata": {
    "collapsed": false
   },
   "outputs": [],
   "source": [
    "plt.figure(2)\n",
    "_,bins2,_ = plt.hist(score_dif,1000,facecolor='red')\n",
    "#plt.plot(bins2)\n",
    "#plt.axis([0, 50, 0, 30000])\n",
    "plt.show()"
   ]
  },
  {
   "cell_type": "code",
   "execution_count": 52,
   "metadata": {
    "collapsed": false
   },
   "outputs": [
    {
     "name": "stdout",
     "output_type": "stream",
     "text": [
      "[0.9705362895519397, 0.5454545454545454]\n",
      "['prepar', 'ca', 'final', 'law']\n",
      "['one', 'know', 'complet', 'prepar', 'ca', 'final', 'exam']\n"
     ]
    }
   ],
   "source": [
    "temp = 29\n",
    "print score[temp]\n",
    "print qu1[temp]\n",
    "print qu2[temp]\n",
    "#print len(dup)"
   ]
  },
  {
   "cell_type": "code",
   "execution_count": 55,
   "metadata": {
    "collapsed": true
   },
   "outputs": [
    {
     "name": "stdout",
     "output_type": "stream",
     "text": [
      "0.64102253333\n"
     ]
    },
    {
     "ename": "NameError",
     "evalue": "name 'clg' is not defined",
     "output_type": "error",
     "traceback": [
      "\u001b[0;31m---------------------------------------------------------------------------\u001b[0m",
      "\u001b[0;31mNameError\u001b[0m                                 Traceback (most recent call last)",
      "\u001b[0;32m<ipython-input-55-be89d149784d>\u001b[0m in \u001b[0;36m<module>\u001b[0;34m()\u001b[0m\n\u001b[1;32m      2\u001b[0m \u001b[0mclf\u001b[0m\u001b[0;34m.\u001b[0m\u001b[0mfit\u001b[0m\u001b[0;34m(\u001b[0m\u001b[0mscore\u001b[0m\u001b[0;34m,\u001b[0m \u001b[0mdup\u001b[0m\u001b[0;34m)\u001b[0m\u001b[0;34m\u001b[0m\u001b[0m\n\u001b[1;32m      3\u001b[0m \u001b[0;32mprint\u001b[0m \u001b[0mclf\u001b[0m\u001b[0;34m.\u001b[0m\u001b[0mscore\u001b[0m\u001b[0;34m(\u001b[0m\u001b[0mscore\u001b[0m\u001b[0;34m,\u001b[0m\u001b[0mdup\u001b[0m\u001b[0;34m)\u001b[0m\u001b[0;34m\u001b[0m\u001b[0m\n\u001b[0;32m----> 4\u001b[0;31m \u001b[0;32mprint\u001b[0m \u001b[0mclg\u001b[0m\u001b[0;34m.\u001b[0m\u001b[0mget_params\u001b[0m\u001b[0;34m(\u001b[0m\u001b[0;34m)\u001b[0m\u001b[0;34m\u001b[0m\u001b[0m\n\u001b[0m",
      "\u001b[0;31mNameError\u001b[0m: name 'clg' is not defined"
     ]
    }
   ],
   "source": [
    "clf = LogisticRegression(solver='sag', max_iter=100)\n",
    "clf.fit(score, dup)\n",
    "print clf.score(score,dup)"
   ]
  },
  {
   "cell_type": "code",
   "execution_count": 14,
   "metadata": {
    "collapsed": true
   },
   "outputs": [],
   "source": [
    "f = open('scores_test.csv','w')\n",
    "f.write(\"syn,same\\n\")\n",
    "for i in range(0,len(score)):\n",
    "    f.write(str(score[i][0]) + ',' + str(score[i][1]) + '\\n')\n",
    "\n",
    "f.close()"
   ]
  }
 ],
 "metadata": {
  "anaconda-cloud": {},
  "kernelspec": {
   "display_name": "Python [conda env:hcc]",
   "language": "python",
   "name": "conda-env-hcc-py"
  },
  "language_info": {
   "codemirror_mode": {
    "name": "ipython",
    "version": 2
   },
   "file_extension": ".py",
   "mimetype": "text/x-python",
   "name": "python",
   "nbconvert_exporter": "python",
   "pygments_lexer": "ipython2",
   "version": "2.7.13"
  }
 },
 "nbformat": 4,
 "nbformat_minor": 2
}
